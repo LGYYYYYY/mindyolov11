{
 "cells": [
  {
   "cell_type": "code",
   "execution_count": null,
   "id": "9fbf1270-f98f-4395-b354-8360092d31db",
   "metadata": {},
   "outputs": [],
   "source": [
    "\n",
    "python train.py \\\n",
    "--config ./configs/yolov8/yolov8l.yaml \\\n",
    "--device_target Ascend \\\n",
    "--weight ../pretrain_model/yolov8l_pretrain.ckpt \\\n",
    "--ema_weight ./pretrain_ckpt/EMA_yolov8l-25_108.ckpt\n",
    "\n",
    "#--weight ./pretrain_ckpt/yolov8l_pretrain.ckpt \\\n",
    "#--ema_weight ./pretrain_ckpt/yolov8l_pretrain.ckpt\n"
   ]
  },
  {
   "cell_type": "code",
   "execution_count": null,
   "id": "cd7389fb-d697-4f51-acd7-edef78bab001",
   "metadata": {},
   "outputs": [],
   "source": [
    "python train.py \\\n",
    "--config ./configs/yolov11/yolov11l.yaml \\\n",
    "--device_target Ascend \\\n",
    "--weight ../pretrain_model/models/yolov11l-3_186.ckpt \\\n",
    "--ema_weight ../pretrain_model/models/EMA_yolov11l-3_186.ckpt"
   ]
  },
  {
   "cell_type": "code",
   "execution_count": null,
   "id": "8d970014-0059-47b4-83dd-d755cf99df35",
   "metadata": {},
   "outputs": [],
   "source": [
    "!python convert_onnx.py \\\n",
    "--config ./configs/yolov8/yolov8l.yaml \\\n",
    "--device_target Ascend"
   ]
  },
  {
   "cell_type": "code",
   "execution_count": null,
   "id": "590b59ec-96b5-4c1c-99dd-906a1a712e5a",
   "metadata": {},
   "outputs": [],
   "source": [
    "!python ./deploy/export.py \\\n",
    "--config ./configs/yolov8/yolov8l.yaml \\\n",
    "--weight ./pretrain_ckpt/yolov8l-500_54.ckpt \\\n",
    "--per_batch_size 1 \\\n",
    "--file_format ONNX \\\n",
    "--device_target CPU\n",
    "e.g.\n"
   ]
  },
  {
   "cell_type": "code",
   "execution_count": null,
   "id": "60fc3d42-6d65-4dca-a2d1-377b8c5e6bf8",
   "metadata": {},
   "outputs": [],
   "source": [
    "python predict.py \\\n",
    "--config ./configs/yolov11/yolov11l.yaml \\\n",
    "--image_path ../train_data_coco/images/train/200.bmp \\\n",
    "--device_target CPU \\\n",
    "--weight ../pretrain_model/yolov8l-137_81.ckpt\n"
   ]
  },
  {
   "cell_type": "code",
   "execution_count": null,
   "id": "a5ef9da6-8f39-4afb-9768-3e7a3c7cb96e",
   "metadata": {},
   "outputs": [],
   "source": [
    "python predict.py \\\n",
    "--config ./configs/yolov11/yolov11l.yaml \\\n",
    "--image_path ../target_data/images/train/final_001_final.bmp \\\n",
    "--device_target CPU \\\n",
    "--weight ../pretrain_model/models/yolov11l-105_38.ckpt\n"
   ]
  },
  {
   "cell_type": "code",
   "execution_count": null,
   "id": "0b9a808d-3db9-4e13-a777-8b7e7841b064",
   "metadata": {},
   "outputs": [],
   "source": [
    "!mpirun -n 2 \\\n",
    "python train.py \\\n",
    "--config ./configs/yolov8/yolov8l.yaml \\\n",
    "--device_target Ascend \\\n",
    "--is_parallel True \\\n",
    "--weight ./pretrain_ckpt/yolov8l_pretrain.ckpt \\\n",
    "--ema_weight ./pretrain_ckpt/yolov8l_pretrain.ckpt"
   ]
  }
 ],
 "metadata": {
  "kernelspec": {
   "display_name": "MindSpore",
   "language": "python",
   "name": "mindspore"
  },
  "language_info": {
   "codemirror_mode": {
    "name": "ipython",
    "version": 3
   },
   "file_extension": ".py",
   "mimetype": "text/x-python",
   "name": "python",
   "nbconvert_exporter": "python",
   "pygments_lexer": "ipython3",
   "version": "3.9.18"
  }
 },
 "nbformat": 4,
 "nbformat_minor": 5
}
